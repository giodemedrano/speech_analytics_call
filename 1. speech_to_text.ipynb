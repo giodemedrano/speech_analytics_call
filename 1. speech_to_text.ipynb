{
 "cells": [
  {
   "cell_type": "markdown",
   "metadata": {},
   "source": [
    "# Initial setup"
   ]
  },
  {
   "cell_type": "code",
   "execution_count": null,
   "metadata": {},
   "outputs": [],
   "source": [
    "import logging\n",
    "import json\n",
    "import time\n",
    "import os\n",
    "from os import listdir\n",
    "from os.path import join, dirname, isfile\n",
    "from ibm_watson import SpeechToTextV1\n",
    "from ibm_watson.websocket import RecognizeCallback, AudioSource\n",
    "import threading\n",
    "from ibm_cloud_sdk_core.authenticators import IAMAuthenticator\n",
    "\n",
    "mypath = r'\\\\192.9.100.44\\grabaciones\\CAT\\20210427'\n",
    "myoutput = 'Voicebot'\n",
    "# listdir(f'{myoutput}')"
   ]
  },
  {
   "cell_type": "code",
   "execution_count": null,
   "metadata": {},
   "outputs": [],
   "source": [
    "handler = logging.handlers.WatchedFileHandler(os.environ.get(\"LOGFILE\", f\"{myoutput}/debug.log\"))\n",
    "formatter = logging.Formatter('%(asctime)s - %(levelname)s - %(message)s')\n",
    "handler.setFormatter(formatter)\n",
    "root = logging.getLogger()\n",
    "root.setLevel(os.environ.get(\"LOGLEVEL\", \"INFO\"))\n",
    "root.addHandler(handler)\n",
    "logging.info(f\"INICIO PROCESO '1.speech_to_text.ipynb'\")"
   ]
  },
  {
   "cell_type": "code",
   "execution_count": null,
   "metadata": {
    "tags": []
   },
   "outputs": [],
   "source": [
    "onlyfiles = [f for f in listdir(f'{mypath}') if isfile(join(f'{mypath}', f))] # whitout subdirs\n",
    "logging.info(f\"{len(onlyfiles)} files inside '{mypath}'\")\n",
    "audiofiles = [os.path.splitext(filename)[0] for filename in onlyfiles if os.path.splitext(filename)[1]=='.ogg' and 'taisagap' in filename] # taisagap = voicebot\n",
    "logging.info(f\"{len(audiofiles)} audio files .ogg and from 'taisagap' inside '{mypath}'\")\n",
    "logging.info(f\"The first 5 files are:\")\n",
    "for file in audiofiles[:5]: logging.info(f\"{file}\")"
   ]
  },
  {
   "cell_type": "code",
   "execution_count": null,
   "metadata": {},
   "outputs": [],
   "source": [
    "authenticator = IAMAuthenticator(os.environ['API_KEY'])\n",
    "stt_service = SpeechToTextV1(authenticator=authenticator)\n",
    "stt_service.set_service_url(os.environ['URL'])\n",
    "\n",
    "model_US_Bb = 'en-US_BroadbandModel'\n",
    "model_AR_Nb = 'es-AR_NarrowbandModel'\n",
    "model_CL_Nb = 'es-CL_NarrowbandModel'\n",
    "model_PE_Nb = 'es-PE_NarrowbandModel'\n",
    "\n",
    "model_selected = model_CL_Nb\n",
    "# model_selected = stt_service.get_model(model_AR_Bb)\n",
    "# print(model_selected.get_result())\n",
    "# print(json.dumps(model, indent=2))"
   ]
  },
  {
   "cell_type": "markdown",
   "metadata": {},
   "source": [
    "# Multipart speech recognition"
   ]
  },
  {
   "cell_type": "code",
   "execution_count": null,
   "metadata": {},
   "outputs": [],
   "source": [
    "times = []\n",
    "transcripts = []\n",
    "len(times)"
   ]
  },
  {
   "cell_type": "code",
   "execution_count": null,
   "metadata": {
    "tags": []
   },
   "outputs": [],
   "source": [
    "print('Starting Process STT with IBM API...')\n",
    "inicio = time.time()\n",
    "if not os.path.exists(f\"{myoutput}/transcripts/json\"):\n",
    "        os.makedirs(f\"{myoutput}/transcripts/json\")\n",
    "if not os.path.exists(f\"{myoutput}/transcripts/info\"):\n",
    "        os.makedirs(f\"{myoutput}/transcripts/info\")\n",
    "for i,audiofile in enumerate(audiofiles[:100]):\n",
    "    start = time.time()\n",
    "    with open(f'{mypath}/{audiofile}.ogg','rb') as audio_file:\n",
    "        try: \n",
    "            transcript = stt_service.recognize(\n",
    "                audio=audio_file,\n",
    "                content_type='audio/ogg',\n",
    "                model=model_selected,\n",
    "                timestamps=True,\n",
    "                speaker_labels=True,\n",
    "                smart_formatting=True,\n",
    "                audio_metrics=True,\n",
    "                inactivity_timeout=-1,\n",
    "                word_confidence=True).get_result()\n",
    "            status = 'OK'\n",
    "        except: \n",
    "            status = 'Error'\n",
    "    end = time.time()\n",
    "    tiempo = end-start\n",
    "    transcripts.append(transcript)\n",
    "    times.append(tiempo)\n",
    "\n",
    "    with open(f\"{myoutput}/transcripts/json/{audiofile}.json\", 'w', encoding='utf8') as json_file:\n",
    "        json.dump(transcript, json_file, ensure_ascii=False)\n",
    "\n",
    "    with open(f\"{myoutput}/transcripts/info/times.json\", 'w', encoding='utf8') as json_file:\n",
    "        json.dump(times, json_file, ensure_ascii=False)\n",
    "\n",
    "    print(f'File {i+1:02} completed:  Status: {status}\\tStart: {start-inicio:.0f}s\\t End: {end-inicio:.0f}s\\t Total: {end-start:.0f}s')\n",
    "print('Process Completed')"
   ]
  },
  {
   "cell_type": "code",
   "execution_count": null,
   "metadata": {},
   "outputs": [],
   "source": [
    "print(len(transcripts))\n",
    "sum(time for time in times)"
   ]
  }
 ],
 "metadata": {
  "kernelspec": {
   "display_name": "Python 3",
   "language": "python",
   "name": "python3"
  },
  "language_info": {
   "codemirror_mode": {
    "name": "ipython",
    "version": 3
   },
   "file_extension": ".py",
   "mimetype": "text/x-python",
   "name": "python",
   "nbconvert_exporter": "python",
   "pygments_lexer": "ipython3",
   "version": "3.10.9 (tags/v3.10.9:1dd9be6, Dec  6 2022, 20:01:21) [MSC v.1934 64 bit (AMD64)]"
  },
  "orig_nbformat": 2,
  "vscode": {
   "interpreter": {
    "hash": "26de051ba29f2982a8de78e945f0abaf191376122a1563185a90213a26c5da77"
   }
  }
 },
 "nbformat": 4,
 "nbformat_minor": 2
}
